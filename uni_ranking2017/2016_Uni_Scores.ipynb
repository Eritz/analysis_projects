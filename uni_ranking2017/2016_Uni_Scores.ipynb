{
 "cells": [
  {
   "cell_type": "markdown",
   "metadata": {},
   "source": [
    "# Prediction models for 2017 College Rankings\n",
    "\n",
    "I will be creating and analyzing prediction models on <a href='https://en.wikipedia.org/wiki/Times_Higher_Education'> Time Higher Education</a>'s top 200 world universities for one of my beginner's project. I will be using the data from the 2016 subset to predict rankings for 2017. The regression methods I will be utilizing are Random Forest, Ridge Regression, Linear Regression, and KNN (k=5). I will compare each of the model and offer an interpretation of the results.\n",
    "\n",
    "The dataset and its description can be found on <a href='https://www.kaggle.com/mylesoneill/world-university-rankings'> Kaggle</a>, and I'll be using the dataset as downloaded on July 22nd."
   ]
  },
  {
   "cell_type": "code",
   "execution_count": 1,
   "metadata": {
    "collapsed": false
   },
   "outputs": [],
   "source": [
    "import pandas as pd\n",
    "import numpy as np\n",
    "from sklearn.ensemble import RandomForestRegressor\n",
    "from sklearn.linear_model import Ridge, LinearRegression\n",
    "from sklearn.neighbors import KNeighborsRegressor\n",
    "from sklearn.cross_validation import train_test_split\n",
    "from sklearn.metrics import mean_squared_error\n",
    "import statsmodels.api as sm\n",
    "import matplotlib.pyplot as plt\n",
    "%matplotlib inline\n",
    "\n",
    "# Fix this line\n",
    "data = pd.read_csv('csvfilehere')"
   ]
  },
  {
   "cell_type": "markdown",
   "metadata": {},
   "source": [
    "## Glancing over the dataset\n",
    "\n",
    "Since the dataset includes rankings from 2011 to 2016, we will have to filter the 2016 rankings for usage. From the 2016 ranking we will create a dataframe of the top 200 universities to get a good overview. Although the dataset is clean, some tidying is still necessary such as the datatypes."
   ]
  },
  {
   "cell_type": "code",
   "execution_count": 2,
   "metadata": {
    "collapsed": false
   },
   "outputs": [
    {
     "data": {
      "text/plain": [
       "world_rank                 object\n",
       "university_name            object\n",
       "country                    object\n",
       "teaching                  float64\n",
       "international              object\n",
       "research                  float64\n",
       "citations                 float64\n",
       "income                     object\n",
       "total_score                object\n",
       "num_students               object\n",
       "student_staff_ratio       float64\n",
       "international_students     object\n",
       "female_male_ratio          object\n",
       "year                        int64\n",
       "dtype: object"
      ]
     },
     "execution_count": 2,
     "metadata": {},
     "output_type": "execute_result"
    }
   ],
   "source": [
    "data.dtypes"
   ]
  },
  {
   "cell_type": "markdown",
   "metadata": {},
   "source": [
    "Above we can see that **international**, **income**, and **total_score** must be converted into a float. \n",
    "\n",
    "After cleaning this dataframe, we will create a new one with only the predictors and response variables. In the analysis our key features are **teaching**, **international**, **research**, **citations**, and **income**."
   ]
  },
  {
   "cell_type": "code",
   "execution_count": 6,
   "metadata": {
    "collapsed": false
   },
   "outputs": [
    {
     "name": "stderr",
     "output_type": "stream",
     "text": [
      "C:\\Anaconda3\\lib\\site-packages\\ipykernel\\__main__.py:18: FutureWarning: convert_objects is deprecated.  Use the data-type specific converters pd.to_datetime, pd.to_timedelta and pd.to_numeric.\n",
      "C:\\Anaconda3\\lib\\site-packages\\ipykernel\\__main__.py:19: FutureWarning: convert_objects is deprecated.  Use the data-type specific converters pd.to_datetime, pd.to_timedelta and pd.to_numeric.\n",
      "C:\\Anaconda3\\lib\\site-packages\\ipykernel\\__main__.py:22: FutureWarning: convert_objects is deprecated.  Use the data-type specific converters pd.to_datetime, pd.to_timedelta and pd.to_numeric.\n"
     ]
    },
    {
     "data": {
      "text/html": [
       "<div>\n",
       "<table border=\"1\" class=\"dataframe\">\n",
       "  <thead>\n",
       "    <tr style=\"text-align: right;\">\n",
       "      <th></th>\n",
       "      <th>world_rank</th>\n",
       "      <th>university_name</th>\n",
       "      <th>country</th>\n",
       "      <th>teaching</th>\n",
       "      <th>international</th>\n",
       "      <th>research</th>\n",
       "      <th>citations</th>\n",
       "      <th>income</th>\n",
       "      <th>total_score</th>\n",
       "    </tr>\n",
       "  </thead>\n",
       "  <tbody>\n",
       "    <tr>\n",
       "      <th>1</th>\n",
       "      <td>1</td>\n",
       "      <td>California Institute of Technology</td>\n",
       "      <td>United States of America</td>\n",
       "      <td>95.6</td>\n",
       "      <td>64.0</td>\n",
       "      <td>97.6</td>\n",
       "      <td>99.8</td>\n",
       "      <td>97.8</td>\n",
       "      <td>95.2</td>\n",
       "    </tr>\n",
       "    <tr>\n",
       "      <th>2</th>\n",
       "      <td>2</td>\n",
       "      <td>University of Oxford</td>\n",
       "      <td>United Kingdom</td>\n",
       "      <td>86.5</td>\n",
       "      <td>94.4</td>\n",
       "      <td>98.9</td>\n",
       "      <td>98.8</td>\n",
       "      <td>73.1</td>\n",
       "      <td>94.2</td>\n",
       "    </tr>\n",
       "    <tr>\n",
       "      <th>3</th>\n",
       "      <td>3</td>\n",
       "      <td>Stanford University</td>\n",
       "      <td>United States of America</td>\n",
       "      <td>92.5</td>\n",
       "      <td>76.3</td>\n",
       "      <td>96.2</td>\n",
       "      <td>99.9</td>\n",
       "      <td>63.3</td>\n",
       "      <td>93.9</td>\n",
       "    </tr>\n",
       "    <tr>\n",
       "      <th>4</th>\n",
       "      <td>4</td>\n",
       "      <td>University of Cambridge</td>\n",
       "      <td>United Kingdom</td>\n",
       "      <td>88.2</td>\n",
       "      <td>91.5</td>\n",
       "      <td>96.7</td>\n",
       "      <td>97.0</td>\n",
       "      <td>55.0</td>\n",
       "      <td>92.8</td>\n",
       "    </tr>\n",
       "    <tr>\n",
       "      <th>5</th>\n",
       "      <td>5</td>\n",
       "      <td>Massachusetts Institute of Technology</td>\n",
       "      <td>United States of America</td>\n",
       "      <td>89.4</td>\n",
       "      <td>84.0</td>\n",
       "      <td>88.6</td>\n",
       "      <td>99.7</td>\n",
       "      <td>95.4</td>\n",
       "      <td>92.0</td>\n",
       "    </tr>\n",
       "    <tr>\n",
       "      <th>6</th>\n",
       "      <td>6</td>\n",
       "      <td>Harvard University</td>\n",
       "      <td>United States of America</td>\n",
       "      <td>83.6</td>\n",
       "      <td>77.2</td>\n",
       "      <td>99.0</td>\n",
       "      <td>99.8</td>\n",
       "      <td>45.2</td>\n",
       "      <td>91.6</td>\n",
       "    </tr>\n",
       "    <tr>\n",
       "      <th>7</th>\n",
       "      <td>7</td>\n",
       "      <td>Princeton University</td>\n",
       "      <td>United States of America</td>\n",
       "      <td>85.1</td>\n",
       "      <td>78.5</td>\n",
       "      <td>91.9</td>\n",
       "      <td>99.3</td>\n",
       "      <td>52.1</td>\n",
       "      <td>90.1</td>\n",
       "    </tr>\n",
       "  </tbody>\n",
       "</table>\n",
       "</div>"
      ],
      "text/plain": [
       "  world_rank                        university_name                   country  \\\n",
       "1          1     California Institute of Technology  United States of America   \n",
       "2          2                   University of Oxford            United Kingdom   \n",
       "3          3                    Stanford University  United States of America   \n",
       "4          4                University of Cambridge            United Kingdom   \n",
       "5          5  Massachusetts Institute of Technology  United States of America   \n",
       "6          6                     Harvard University  United States of America   \n",
       "7          7                   Princeton University  United States of America   \n",
       "\n",
       "   teaching  international  research  citations  income  total_score  \n",
       "1      95.6           64.0      97.6       99.8    97.8         95.2  \n",
       "2      86.5           94.4      98.9       98.8    73.1         94.2  \n",
       "3      92.5           76.3      96.2       99.9    63.3         93.9  \n",
       "4      88.2           91.5      96.7       97.0    55.0         92.8  \n",
       "5      89.4           84.0      88.6       99.7    95.4         92.0  \n",
       "6      83.6           77.2      99.0       99.8    45.2         91.6  \n",
       "7      85.1           78.5      91.9       99.3    52.1         90.1  "
      ]
     },
     "execution_count": 6,
     "metadata": {},
     "output_type": "execute_result"
    }
   ],
   "source": [
    "# Select only the top 200 colleges from the year 2016\n",
    "uni = data[data['year'] == 2016]\n",
    "uni = uni[:200] # Our dataset is alrady sorted by rank\n",
    "\n",
    "# Fix world ranking having '=' as values\n",
    "uni['world_rank'] = uni['world_rank'].str.replace(\"=\", \"\")\n",
    "\n",
    "# Keeping only relevant columns for first dataframe\n",
    "columns_to_keep = ['world_rank', 'university_name', 'country','teaching', 'international', 'research', 'citations', 'income', 'total_score']\n",
    "uni = uni[columns_to_keep]\n",
    "\n",
    "# Fix the index\n",
    "uni.index = np.arange(1, len(uni)+1)\n",
    "# The reason we don't use the world_rank as the index is because its numbering\n",
    "# becomes faulty near the end\n",
    "\n",
    "# Change international, total_score, and income into float types\n",
    "uni['total_score'] = uni['total_score'].convert_objects(convert_numeric=True)\n",
    "uni['international'] = uni['international'].convert_objects(convert_numeric=True)\n",
    "\n",
    "uni['income'] = uni['income'].str.replace(\"-\", \"\") # This will create NA values\n",
    "uni['income'] = uni['income'].convert_objects(convert_numeric=True)\n",
    "uni['income'].fillna(round(uni['income'].mean(), 1), inplace=True)\n",
    "\n",
    "uni.head(7)"
   ]
  },
  {
   "cell_type": "markdown",
   "metadata": {},
   "source": [
    "Just to reassure ourselves that everything is okay, we can check the count."
   ]
  },
  {
   "cell_type": "code",
   "execution_count": 7,
   "metadata": {
    "collapsed": false
   },
   "outputs": [
    {
     "data": {
      "text/html": [
       "<div>\n",
       "<table border=\"1\" class=\"dataframe\">\n",
       "  <thead>\n",
       "    <tr style=\"text-align: right;\">\n",
       "      <th></th>\n",
       "      <th>teaching</th>\n",
       "      <th>international</th>\n",
       "      <th>research</th>\n",
       "      <th>citations</th>\n",
       "      <th>income</th>\n",
       "      <th>total_score</th>\n",
       "    </tr>\n",
       "  </thead>\n",
       "  <tbody>\n",
       "    <tr>\n",
       "      <th>count</th>\n",
       "      <td>200.00000</td>\n",
       "      <td>200.000000</td>\n",
       "      <td>200.000000</td>\n",
       "      <td>200.00000</td>\n",
       "      <td>200.000000</td>\n",
       "      <td>200.000000</td>\n",
       "    </tr>\n",
       "    <tr>\n",
       "      <th>mean</th>\n",
       "      <td>50.25000</td>\n",
       "      <td>66.789000</td>\n",
       "      <td>53.905500</td>\n",
       "      <td>82.91500</td>\n",
       "      <td>56.120000</td>\n",
       "      <td>62.520000</td>\n",
       "    </tr>\n",
       "    <tr>\n",
       "      <th>std</th>\n",
       "      <td>16.28864</td>\n",
       "      <td>19.601097</td>\n",
       "      <td>19.765154</td>\n",
       "      <td>12.79835</td>\n",
       "      <td>22.858125</td>\n",
       "      <td>12.040555</td>\n",
       "    </tr>\n",
       "    <tr>\n",
       "      <th>min</th>\n",
       "      <td>25.00000</td>\n",
       "      <td>26.100000</td>\n",
       "      <td>18.100000</td>\n",
       "      <td>8.60000</td>\n",
       "      <td>28.000000</td>\n",
       "      <td>48.800000</td>\n",
       "    </tr>\n",
       "    <tr>\n",
       "      <th>25%</th>\n",
       "      <td>38.50000</td>\n",
       "      <td>51.650000</td>\n",
       "      <td>39.000000</td>\n",
       "      <td>76.67500</td>\n",
       "      <td>36.775000</td>\n",
       "      <td>52.900000</td>\n",
       "    </tr>\n",
       "    <tr>\n",
       "      <th>50%</th>\n",
       "      <td>47.40000</td>\n",
       "      <td>64.700000</td>\n",
       "      <td>48.650000</td>\n",
       "      <td>84.70000</td>\n",
       "      <td>49.550000</td>\n",
       "      <td>57.950000</td>\n",
       "    </tr>\n",
       "    <tr>\n",
       "      <th>75%</th>\n",
       "      <td>59.95000</td>\n",
       "      <td>84.575000</td>\n",
       "      <td>69.375000</td>\n",
       "      <td>92.20000</td>\n",
       "      <td>72.400000</td>\n",
       "      <td>69.625000</td>\n",
       "    </tr>\n",
       "    <tr>\n",
       "      <th>max</th>\n",
       "      <td>95.60000</td>\n",
       "      <td>99.800000</td>\n",
       "      <td>99.000000</td>\n",
       "      <td>100.00000</td>\n",
       "      <td>100.000000</td>\n",
       "      <td>95.200000</td>\n",
       "    </tr>\n",
       "  </tbody>\n",
       "</table>\n",
       "</div>"
      ],
      "text/plain": [
       "        teaching  international    research  citations      income  \\\n",
       "count  200.00000     200.000000  200.000000  200.00000  200.000000   \n",
       "mean    50.25000      66.789000   53.905500   82.91500   56.120000   \n",
       "std     16.28864      19.601097   19.765154   12.79835   22.858125   \n",
       "min     25.00000      26.100000   18.100000    8.60000   28.000000   \n",
       "25%     38.50000      51.650000   39.000000   76.67500   36.775000   \n",
       "50%     47.40000      64.700000   48.650000   84.70000   49.550000   \n",
       "75%     59.95000      84.575000   69.375000   92.20000   72.400000   \n",
       "max     95.60000      99.800000   99.000000  100.00000  100.000000   \n",
       "\n",
       "       total_score  \n",
       "count   200.000000  \n",
       "mean     62.520000  \n",
       "std      12.040555  \n",
       "min      48.800000  \n",
       "25%      52.900000  \n",
       "50%      57.950000  \n",
       "75%      69.625000  \n",
       "max      95.200000  "
      ]
     },
     "execution_count": 7,
     "metadata": {},
     "output_type": "execute_result"
    }
   ],
   "source": [
    "uni.describe()"
   ]
  },
  {
   "cell_type": "markdown",
   "metadata": {},
   "source": [
    "The count sums to 200 just as we wanted! From a look at the quick statistics, one can conclude several ideas.\n",
    "\n",
    "First, a minimum total score of 48.8 is needed to rank in the top 200 (as reference, there is a total of 800 universities ranked in 2016).\n",
    "\n",
    "Second, the median total score is 57.95. I was surprised since I was expecting about 65.0 or 70.0, but the third quantile is 69.62. So at that 75% mark, there is a relatively large gap dividing the top 50 universities from the other 150 schools.\n",
    "\n",
    "Third, the top ranked university does not have all the maxed values of the features. Caltech's teaching value is the only value that matches one of the five feature's max value. I guess this is logical, since each university is unique in its circumstances and its limitations. \n",
    "\n",
    "Of course we removed some features from the original dataset for the sake of this analysis, but I was expecting these features to have a greater impact on the sccore. To expand on this thought, adding the feature values directly doesn't give a cookie-cutter explanation on how the universities are ranked. For example, adding MIT's values give 457.1, but Harvard and Princeton score a sum of 404.8 and 406.9 respectively. Despite this difference, the total score only increased minutely. So, the unincluded features can be said to have a large influence on the total score, but we'll continue to use our selected predictors instead.\n",
    "\n",
    "So let's check how correlated our variables are with one another."
   ]
  },
  {
   "cell_type": "code",
   "execution_count": 8,
   "metadata": {
    "collapsed": false
   },
   "outputs": [
    {
     "data": {
      "text/html": [
       "<div>\n",
       "<table border=\"1\" class=\"dataframe\">\n",
       "  <thead>\n",
       "    <tr style=\"text-align: right;\">\n",
       "      <th></th>\n",
       "      <th>teaching</th>\n",
       "      <th>international</th>\n",
       "      <th>research</th>\n",
       "      <th>citations</th>\n",
       "      <th>income</th>\n",
       "      <th>total_score</th>\n",
       "    </tr>\n",
       "  </thead>\n",
       "  <tbody>\n",
       "    <tr>\n",
       "      <th>teaching</th>\n",
       "      <td>1.000000</td>\n",
       "      <td>-0.043388</td>\n",
       "      <td>0.894834</td>\n",
       "      <td>0.186377</td>\n",
       "      <td>0.201191</td>\n",
       "      <td>0.909918</td>\n",
       "    </tr>\n",
       "    <tr>\n",
       "      <th>international</th>\n",
       "      <td>-0.043388</td>\n",
       "      <td>1.000000</td>\n",
       "      <td>0.057884</td>\n",
       "      <td>0.063861</td>\n",
       "      <td>-0.072871</td>\n",
       "      <td>0.151108</td>\n",
       "    </tr>\n",
       "    <tr>\n",
       "      <th>research</th>\n",
       "      <td>0.894834</td>\n",
       "      <td>0.057884</td>\n",
       "      <td>1.000000</td>\n",
       "      <td>0.150736</td>\n",
       "      <td>0.257712</td>\n",
       "      <td>0.923236</td>\n",
       "    </tr>\n",
       "    <tr>\n",
       "      <th>citations</th>\n",
       "      <td>0.186377</td>\n",
       "      <td>0.063861</td>\n",
       "      <td>0.150736</td>\n",
       "      <td>1.000000</td>\n",
       "      <td>-0.220625</td>\n",
       "      <td>0.466585</td>\n",
       "    </tr>\n",
       "    <tr>\n",
       "      <th>income</th>\n",
       "      <td>0.201191</td>\n",
       "      <td>-0.072871</td>\n",
       "      <td>0.257712</td>\n",
       "      <td>-0.220625</td>\n",
       "      <td>1.000000</td>\n",
       "      <td>0.177021</td>\n",
       "    </tr>\n",
       "    <tr>\n",
       "      <th>total_score</th>\n",
       "      <td>0.909918</td>\n",
       "      <td>0.151108</td>\n",
       "      <td>0.923236</td>\n",
       "      <td>0.466585</td>\n",
       "      <td>0.177021</td>\n",
       "      <td>1.000000</td>\n",
       "    </tr>\n",
       "  </tbody>\n",
       "</table>\n",
       "</div>"
      ],
      "text/plain": [
       "               teaching  international  research  citations    income  \\\n",
       "teaching       1.000000      -0.043388  0.894834   0.186377  0.201191   \n",
       "international -0.043388       1.000000  0.057884   0.063861 -0.072871   \n",
       "research       0.894834       0.057884  1.000000   0.150736  0.257712   \n",
       "citations      0.186377       0.063861  0.150736   1.000000 -0.220625   \n",
       "income         0.201191      -0.072871  0.257712  -0.220625  1.000000   \n",
       "total_score    0.909918       0.151108  0.923236   0.466585  0.177021   \n",
       "\n",
       "               total_score  \n",
       "teaching          0.909918  \n",
       "international     0.151108  \n",
       "research          0.923236  \n",
       "citations         0.466585  \n",
       "income            0.177021  \n",
       "total_score       1.000000  "
      ]
     },
     "execution_count": 8,
     "metadata": {},
     "output_type": "execute_result"
    }
   ],
   "source": [
    "uni.corr()"
   ]
  },
  {
   "cell_type": "markdown",
   "metadata": {},
   "source": [
    "A good guess for later is that **teaching**, **research**, and **citations** will impact our regression coefficients the most. One important fact is that **teaching** and **research** are *highly correlated* with one another and exhibits *collinearity*. If we were to to use them as individual predictors for its impact on the total score, it would give poor results. Otherwise, it is okay to use them together with the other predictor variables in determining the outcome variable. Still, I would expect that they might impact our models."
   ]
  },
  {
   "cell_type": "markdown",
   "metadata": {},
   "source": [
    "## Building our model for prediction analysis\n",
    "\n",
    "Let's create the new dataframe composed of only the features and the response. Then we'll separate the data into a training and test set."
   ]
  },
  {
   "cell_type": "code",
   "execution_count": 9,
   "metadata": {
    "collapsed": false
   },
   "outputs": [
    {
     "data": {
      "text/html": [
       "<div>\n",
       "<table border=\"1\" class=\"dataframe\">\n",
       "  <thead>\n",
       "    <tr style=\"text-align: right;\">\n",
       "      <th></th>\n",
       "      <th>teaching</th>\n",
       "      <th>international</th>\n",
       "      <th>research</th>\n",
       "      <th>citations</th>\n",
       "      <th>income</th>\n",
       "      <th>total_score</th>\n",
       "    </tr>\n",
       "  </thead>\n",
       "  <tbody>\n",
       "    <tr>\n",
       "      <th>1</th>\n",
       "      <td>95.6</td>\n",
       "      <td>64.0</td>\n",
       "      <td>97.6</td>\n",
       "      <td>99.8</td>\n",
       "      <td>97.8</td>\n",
       "      <td>95.2</td>\n",
       "    </tr>\n",
       "    <tr>\n",
       "      <th>2</th>\n",
       "      <td>86.5</td>\n",
       "      <td>94.4</td>\n",
       "      <td>98.9</td>\n",
       "      <td>98.8</td>\n",
       "      <td>73.1</td>\n",
       "      <td>94.2</td>\n",
       "    </tr>\n",
       "    <tr>\n",
       "      <th>3</th>\n",
       "      <td>92.5</td>\n",
       "      <td>76.3</td>\n",
       "      <td>96.2</td>\n",
       "      <td>99.9</td>\n",
       "      <td>63.3</td>\n",
       "      <td>93.9</td>\n",
       "    </tr>\n",
       "  </tbody>\n",
       "</table>\n",
       "</div>"
      ],
      "text/plain": [
       "   teaching  international  research  citations  income  total_score\n",
       "1      95.6           64.0      97.6       99.8    97.8         95.2\n",
       "2      86.5           94.4      98.9       98.8    73.1         94.2\n",
       "3      92.5           76.3      96.2       99.9    63.3         93.9"
      ]
     },
     "execution_count": 9,
     "metadata": {},
     "output_type": "execute_result"
    }
   ],
   "source": [
    "# Dataframe with only features and the response\n",
    "uniset = uni.drop(['world_rank', 'university_name', 'country'], axis=1)\n",
    "uniset.head(3)"
   ]
  },
  {
   "cell_type": "code",
   "execution_count": 10,
   "metadata": {
    "collapsed": false
   },
   "outputs": [
    {
     "name": "stdout",
     "output_type": "stream",
     "text": [
      "X train:  (120, 5)\n",
      "Y train:  (120,)\n",
      "X test:  (80, 5)\n",
      "Y test:  (80,)\n"
     ]
    }
   ],
   "source": [
    "# Split the dataset into a training and test set\n",
    "X = uniset.drop('total_score', axis=1)\n",
    "\n",
    "# For our analysis we will split 60% for training and 40% for testing,\n",
    "# since we have a small number of samples\n",
    "X_train, X_test, Y_train, Y_test = train_test_split(X, uniset['total_score'], test_size=0.40, random_state=32)\n",
    "\n",
    "# Let's check to make sure it split well\n",
    "print('X train: ', X_train.shape)\n",
    "print('Y train: ', Y_train.shape)\n",
    "print('X test: ', X_test.shape)\n",
    "print('Y test: ', Y_test.shape)"
   ]
  },
  {
   "cell_type": "markdown",
   "metadata": {},
   "source": [
    "With the dataset now separated into a testing and test set, let's begin creating our models. It is important that when we run the prediction and check its test results, we shouldn't necessarily try to tune our model anymore in order to match the test result. If we did, we would just be overfitting our test set, and failing to build a model for future instances. "
   ]
  },
  {
   "cell_type": "code",
   "execution_count": 11,
   "metadata": {
    "collapsed": false
   },
   "outputs": [
    {
     "data": {
      "text/html": [
       "<div>\n",
       "<table border=\"1\" class=\"dataframe\">\n",
       "  <thead>\n",
       "    <tr style=\"text-align: right;\">\n",
       "      <th></th>\n",
       "      <th>R^2</th>\n",
       "      <th>MSE</th>\n",
       "    </tr>\n",
       "  </thead>\n",
       "  <tbody>\n",
       "    <tr>\n",
       "      <th>Random Forest</th>\n",
       "      <td>0.943947</td>\n",
       "      <td>8.936911</td>\n",
       "    </tr>\n",
       "    <tr>\n",
       "      <th>Ridge</th>\n",
       "      <td>0.999832</td>\n",
       "      <td>0.026773</td>\n",
       "    </tr>\n",
       "    <tr>\n",
       "      <th>Linear</th>\n",
       "      <td>0.999832</td>\n",
       "      <td>0.026775</td>\n",
       "    </tr>\n",
       "    <tr>\n",
       "      <th>KNN</th>\n",
       "      <td>0.950399</td>\n",
       "      <td>7.908175</td>\n",
       "    </tr>\n",
       "  </tbody>\n",
       "</table>\n",
       "</div>"
      ],
      "text/plain": [
       "                    R^2       MSE\n",
       "Random Forest  0.943947  8.936911\n",
       "Ridge          0.999832  0.026773\n",
       "Linear         0.999832  0.026775\n",
       "KNN            0.950399  7.908175"
      ]
     },
     "execution_count": 11,
     "metadata": {},
     "output_type": "execute_result"
    }
   ],
   "source": [
    "# Build and save our prediction models \n",
    "model_forest = RandomForestRegressor(n_estimators=300, n_jobs=-1) # 300 trees\n",
    "model_ridge = Ridge(alpha=0.3) # Penalty of 0.3\n",
    "model_linear = LinearRegression()\n",
    "model_knn = KNeighborsRegressor(n_neighbors=5) # k=5\n",
    "\n",
    "model_list = [model_forest, model_ridge, model_linear, model_knn]\n",
    "model_yhat = [[], [], [], []]\n",
    "count = 0 # Using dictionaries would not allow for easier calculations later, so we are using a list of lists and appending it\n",
    "rsquared_list = []\n",
    "MSE_list = []\n",
    "\n",
    "# Fit the model, use it to predict the total scores, and then get the R^2 and MSE\n",
    "for model in model_list:\n",
    "    model.fit(X_train, Y_train)\n",
    "    model_yhat[count].append(model.predict(X_test))\n",
    "    count +=1\n",
    "    rsquared_list.append(model.score(X_test, Y_test))\n",
    "    MSE_list.append(mean_squared_error(Y_test, model.predict(X_test)))\n",
    "\n",
    "# Create a dataframe to look at the results\n",
    "stat_info = {'R^2' : rsquared_list, 'MSE' : MSE_list}\n",
    "model_table = pd.DataFrame(stat_info, columns=['R^2', 'MSE'],\n",
    "                           index=['Random Forest', 'Ridge', 'Linear', 'KNN'])\n",
    "model_table"
   ]
  },
  {
   "cell_type": "markdown",
   "metadata": {},
   "source": [
    "## Looking at the results\n",
    "\n",
    "### Ridge and Linear\n",
    "\n",
    "I am very skeptical on the Ridge and Linear Regression. A MSE close to 0 and R^2 close to 1.0 is too perfect, and suggests the possibility of overfitting or a poor choice of model. \n",
    "\n",
    "Although ridge regression tackles variables with high collinearity with its penalty term, it works best with **many** features in the dataset. In our case, only 5 independent variables were used in the model. Unlike lasso, ridge regression does not perform feature selection (i.e. making the least impacting features 0) and will keep all the features in its usage. So I chose ridge regression to use over lasso. Another point is that our 2016 dataframe possesses a lack of data to work on (120 training values). For our linear regression model, The linear regression suffers from being a basic model and possibly overfitting.\n",
    "\n",
    "### Random Forest\n",
    "\n",
    "This model looks more realistic, and its R^2 value isn't terrible. Since it's a good measure, let's use it to check each feature's importance. Note that we are unable to check coefficients because of how random forest is performed."
   ]
  },
  {
   "cell_type": "code",
   "execution_count": 12,
   "metadata": {
    "collapsed": false
   },
   "outputs": [
    {
     "name": "stdout",
     "output_type": "stream",
     "text": [
      "teaching         0.484159\n",
      "research         0.430823\n",
      "citations        0.064866\n",
      "international    0.011739\n",
      "income           0.008412\n",
      "dtype: float64\n"
     ]
    },
    {
     "data": {
      "image/png": "[encoded data removed]",
      "text/plain": [
       "<matplotlib.figure.Figure at 0xba48710>"
      ]
     },
     "metadata": {},
     "output_type": "display_data"
    }
   ],
   "source": [
    "# Get feature importance and plot it\n",
    "model_forest.feature_importances_\n",
    "feat_imp = pd.Series(model_forest.feature_importances_, index=X.columns)\n",
    "feat_imp.plot(kind=\"bar\")\n",
    "print(feat_imp.sort_values(ascending=False))"
   ]
  },
  {
   "cell_type": "markdown",
   "metadata": {},
   "source": [
    "As we've guessed previously, **teaching**, **research**, and **citations** have the highest effect on the total score in our dataset. Random Forest did a pretty great job for our dataset in handling these correlated variables, but KNN did an even better job.\n",
    "\n",
    "### K-nearest Neighbors\n",
    "We could've picked any k value, but I just chose 5. Still, the R^2 value is greater and the MSE is lower than those of random forest. Both of these two models are certainly more believable considering the fact that we excluded some variables.\n",
    "\n",
    "Let's check the residual plots for the KNN model. The residual plots created will have the residuals on the y-axis, and the fitted values on the x-axis. Due to software limitations, we are unable to use all the predictors for designing a 3-D plot. Instead we'll use just plot each individual predictor against the residuals. We should not expect great plots despite the believable R^2 and MSE values. This belief is because of the high collinearity of **teaching** and **research**, the exclusion of many other features in influencing the residuals, and the MSE being large."
   ]
  },
  {
   "cell_type": "code",
   "execution_count": 14,
   "metadata": {
    "collapsed": false,
    "scrolled": true
   },
   "outputs": [],
   "source": [
    "# Make the observed values into an array\n",
    "Y_test = np.array(Y_test)\n",
    "\n",
    "residuals = [] \n",
    "\n",
    "# For reference, the order of the residuals are \n",
    "# Random Forest, Ridge, Linear, and then KNN\n",
    "# Calculates our residuals\n",
    "for array in model_yhat:\n",
    "    temp = np.array(array)\n",
    "    residuals.append(Y_test - temp) #Add the arrays as a new list"
   ]
  },
  {
   "cell_type": "code",
   "execution_count": 15,
   "metadata": {
    "collapsed": false
   },
   "outputs": [
    {
     "data": {
      "image/png": "[encoded data removed]",
      "text/plain": [
       "<matplotlib.figure.Figure at 0xc300ac8>"
      ]
     },
     "metadata": {},
     "output_type": "display_data"
    }
   ],
   "source": [
    "# Create our residual plots\n",
    "fig, ((ax1, ax2), (ax3, ax4), (ax5,ax6)) = plt.subplots(nrows=3, ncols=2, figsize=(10,10))\n",
    "\n",
    "# Teaching\n",
    "ax1.scatter(X_test['teaching'],residuals[3][0])\n",
    "ax1.axhline(y=0, color='k', linestyle='--')\n",
    "ax1.set_title('Residuals vs Teaching')\n",
    "ax1.set_xlabel('Teaching')\n",
    "\n",
    "# International\n",
    "ax2.scatter(X_test['international'],residuals[3][0], color='green')\n",
    "ax2.axhline(y=0, color='k', linestyle='--')\n",
    "ax2.set_title('Residuals vs International')\n",
    "ax2.set_xlabel('International')\n",
    "\n",
    "# Research\n",
    "ax3.scatter(X_test['research'],residuals[3][0], color='peru')\n",
    "ax3.axhline(y=0, color='k', linestyle='--')\n",
    "ax3.set_title('Residuals vs Research')\n",
    "ax3.set_xlabel('Research')\n",
    "\n",
    "# Citations\n",
    "ax4.scatter(X_test['citations'],residuals[3][0], color='orchid')\n",
    "ax4.axhline(y=0, color='k', linestyle='--')\n",
    "ax4.set_title('Residuals vs Citations')\n",
    "ax4.set_xlabel('Citations')\n",
    "\n",
    "# Income\n",
    "ax5.scatter(X_test['income'],residuals[3][0], color='olive')\n",
    "ax5.axhline(y=0, color='k', linestyle='--')\n",
    "ax5.set_title('Residuals vs Income')\n",
    "ax5.set_xlabel('Income')\n",
    "\n",
    "# Y_test\n",
    "ax6.scatter(Y_test,residuals[3][0], color='red')\n",
    "ax6.axhline(y=0, color='k', linestyle='--')\n",
    "ax6.set_title('Residuals vs Y test values')\n",
    "ax6.set_xlabel('Y test values')\n",
    "\n",
    "fig.tight_layout()"
   ]
  },
  {
   "cell_type": "markdown",
   "metadata": {},
   "source": [
    "True enough, our plots aren't too great for several reasons.\n",
    "\n",
    "Firstly, there are a lot of outliers within each plot. Yes, it's each predictor variable being plotted against the residuals, but we should not be seeing that many outliers! For instance, the citation residual plot exhibit one of the outliers to the far left (underpredicted by a lot) and another up top (overpredicted by a lot). One explanation is that the values at these points are very uncommon compared to the rest of the column's values.\n",
    "\n",
    "Another fault can be seen directly on the Residual vs Y test values plot. The plot should be showing a more positive correlation! Instead, it looks almost flat. \n",
    "\n",
    "In additon, I would argue that the residual plots exhibit vague patterns. Most of the points are overpredicting and often stay in the positive level. This can indicate some heavy bias, but of course there isn't too much variability within our columns' values.\n",
    "\n",
    "If we were to plot the residuals for the other models, we would most likely discover they would also perform poorly."
   ]
  },
  {
   "cell_type": "markdown",
   "metadata": {},
   "source": [
    "## Conclusion\n",
    "\n",
    "Our models performed very poorly. Although our best model exhibited a decent R^2 value, its MSE is very high and contributed to overpredicting and underpredicting as visualized in the residual plots. Our model is not doing a great job of predicting values, despite its believability compared to the rest of the other models. \n",
    "\n",
    "Regardless of our faulty modeling, we can probably guess that a university's score is heavily influenced by its teaching value and number of researches. One interesting note is that citations have a stronger influence than international score in this particular model. My guess is that having more citations represent higher credibility and give rise to expansion within the academic fields. This is what Times may support in its real model. Still, the features that we **did** exclude were mainly on diversity. If our models have been doing poorly, it can be safe to say that diversity has a strong impact on the total score calculations.\n",
    "\n",
    "An improved model of this dataset will have all or most of the features included. That way, it can reduce the heavy bias seen within the model. Also we could try using more trees in our random forest, and it could help. We can also try increasing k in our nearest neighbor, but we have to be more skeptical about any overfitting issues. Another way to improve our model is to use past years along with the 2016 data to aid in the prediction. More samples will certainly help.\n",
    "\n",
    "Hope you enjoyed one of my beginner projects!"
   ]
  }
 ],
 "metadata": {
  "kernelspec": {
   "display_name": "Python 3",
   "language": "python",
   "name": "python3"
  },
  "language_info": {
   "codemirror_mode": {
    "name": "ipython",
    "version": 3
   },
   "file_extension": ".py",
   "mimetype": "text/x-python",
   "name": "python",
   "nbconvert_exporter": "python",
   "pygments_lexer": "ipython3",
   "version": "3.5.1"
  }
 },
 "nbformat": 4,
 "nbformat_minor": 0
}
